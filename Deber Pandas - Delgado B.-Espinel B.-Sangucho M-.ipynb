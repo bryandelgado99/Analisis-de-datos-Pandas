{
 "cells": [
  {
   "cell_type": "code",
   "execution_count": null,
   "metadata": {},
   "outputs": [],
   "source": [
    "import pandas as pd\n",
    "import matplotlib.pyplot as plt\n",
    "\n",
    "COD = pd.read_csv(\"COD-dataset.csv\", index_col=\"name\")\n",
    "COD"
   ]
  },
  {
   "cell_type": "code",
   "execution_count": null,
   "metadata": {},
   "outputs": [],
   "source": [
    "#Delgado Bryan\n",
    "#Ahora, realizamos 3 consultas comparativas en tabla\n",
    "'''1. Consultaremos cuales jugadores poseen un kill mayor a 20, un headshot menor a 200 y hayan superado el nivel 1'''\n",
    "COD[(COD['kills']>20) & (COD['headshots']<200) & (COD['level']==1)]\n"
   ]
  },
  {
   "cell_type": "code",
   "execution_count": null,
   "metadata": {},
   "outputs": [],
   "source": [
    "'''2. Consultar jugadores cuyo promedio K/D sea menor a 50 y sus partidas perdidas sean mayores que 10'''\n",
    "COD[(COD['kdRatio']<50) & (COD['losses']>10)]"
   ]
  },
  {
   "cell_type": "code",
   "execution_count": null,
   "metadata": {},
   "outputs": [],
   "source": [
    "'''3. Consultar jugadores que hayan jugado mas o igual que 2000 horas, tengan un una experiencia mayor a 100000 o muertes menores o iguales a 2500'''\n",
    "COD[(COD['timePlayed']>=2000) & ((COD['xp']>100000) | (COD['deaths']<=2500))]"
   ]
  },
  {
   "cell_type": "code",
   "execution_count": null,
   "metadata": {},
   "outputs": [],
   "source": [
    "#Melany Sangucho\n",
    "#1. Jugadores que han ganado varias partidas teniendo 0 kills\n",
    "COD[(COD['wins']>1) & (COD['kills'] == 0)]"
   ]
  },
  {
   "cell_type": "code",
   "execution_count": null,
   "metadata": {},
   "outputs": [],
   "source": [
    "#2. Jugadores que tengan un numero de victorias mayor a 100 y que este sea igual al numero de partidas jugadas\n",
    "COD[(COD['wins'] == COD['gamesPlayed']) & (COD['wins'] >100)]"
   ]
  },
  {
   "cell_type": "code",
   "execution_count": null,
   "metadata": {},
   "outputs": [],
   "source": [
    "#3. Jugadores con la mayor cantidad de tiempo jugado y con el mayor numero de wins\n",
    "COD[(COD['timePlayed'] == COD['timePlayed'].max()) & (COD['wins'] == COD['wins'].max())]"
   ]
  }
 ],
 "metadata": {
  "kernelspec": {
   "display_name": "Python 3",
   "language": "python",
   "name": "python3"
  },
  "language_info": {
   "codemirror_mode": {
    "name": "ipython",
    "version": 3
   },
   "file_extension": ".py",
   "mimetype": "text/x-python",
   "name": "python",
   "nbconvert_exporter": "python",
   "pygments_lexer": "ipython3",
   "version": "3.11.4"
  },
  "orig_nbformat": 4
 },
 "nbformat": 4,
 "nbformat_minor": 2
}
